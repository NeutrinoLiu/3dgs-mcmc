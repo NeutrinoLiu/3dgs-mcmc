{
 "cells": [
  {
   "cell_type": "code",
   "execution_count": 39,
   "metadata": {},
   "outputs": [
    {
     "name": "stdout",
     "output_type": "stream",
     "text": [
      "tensor([3, 4], device='cuda:0')\n"
     ]
    }
   ],
   "source": [
    "import torch\n",
    "ww = torch.tensor([1, 2, 3])\n",
    "a = {'a': ww, 'b': torch.tensor([4, 5, 6])}\n",
    "a['a'] += 1\n",
    "print(a)\n",
    "print(ww)\n"
   ]
  }
 ],
 "metadata": {
  "kernelspec": {
   "display_name": "3dgs",
   "language": "python",
   "name": "python3"
  },
  "language_info": {
   "codemirror_mode": {
    "name": "ipython",
    "version": 3
   },
   "file_extension": ".py",
   "mimetype": "text/x-python",
   "name": "python",
   "nbconvert_exporter": "python",
   "pygments_lexer": "ipython3",
   "version": "3.7.12"
  }
 },
 "nbformat": 4,
 "nbformat_minor": 2
}
