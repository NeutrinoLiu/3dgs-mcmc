{
 "cells": [
  {
   "cell_type": "code",
   "execution_count": 6,
   "metadata": {},
   "outputs": [
    {
     "name": "stdout",
     "output_type": "stream",
     "text": [
      "../a06_all/log_frame_0.log   [(27000, 34.39056901931763), (29000, 34.38935613632202), (26000, 34.21951093673706)]\n",
      "../a06_all/log_frame_1.log   [(23000, 34.61338109970093), (19000, 34.57273263931275), (26000, 34.55698833465576)]\n",
      "../a06_all/log_frame_2.log   [(20000, 34.56608848571778), (21000, 34.55878601074219), (28000, 34.53705129623413)]\n",
      "../a06_all/log_frame_3.log   [(27000, 34.665932464599614), (28000, 34.661684608459474), (26000, 34.641224193573)]\n",
      "../a06_all/log_frame_4.log   [(27000, 34.337581443786625), (29000, 34.26267967224121), (19000, 34.17204389572144)]\n",
      "../a06_all/log_frame_5.log   [(29000, 34.219671630859374), (20000, 33.995325565338135), (27000, 33.98939666748047)]\n",
      "../a06_all/log_frame_6.log   [(23000, 34.114523601531985), (22000, 34.11124458312988), (25000, 34.04245662689209)]\n",
      "../a06_all/log_frame_7.log   [(29000, 34.57352333068848), (27000, 34.55090675354004), (23000, 34.519211006164554)]\n",
      "../a06_all/log_frame_8.log   [(26000, 34.50418138504028), (21000, 34.384575080871585), (28000, 34.34731645584107)]\n",
      "../a06_all/log_frame_9.log   [(24000, 34.80726585388184), (25000, 34.723258113861085), (22000, 34.713013648986816)]\n"
     ]
    }
   ],
   "source": [
    "import os\n",
    "import glob\n",
    "\n",
    "eval_dir = \"../a06_all\"\n",
    "\n",
    "# Step 2: Use glob to find all .log files in the specified directory\n",
    "eval_log_files = glob.glob(f'{eval_dir}/*.log')\n",
    "# print(log_files)\n",
    "eval_log_files.sort()\n",
    "between = lambda x,a,b: x.split(a)[-1].split(b)[0]\n",
    "\n",
    "for lf in eval_log_files:\n",
    "    with open(lf, \"r\") as f:\n",
    "        log = f.readlines()\n",
    "    score = []\n",
    "    for l in log:\n",
    "        if \"Evaluating test: L1\" in l:\n",
    "            iter = int(between(l, '[ITER ', '] Evaluating'))\n",
    "            psnr = float(between(l, 'PSNR ', ' [15/07').split(' ')[0])\n",
    "            score.append((iter, psnr))\n",
    "    if len(score):\n",
    "        score.sort(key= lambda x: x[1], reverse=True)\n",
    "        print(lf, ' ', score[0:3])"
   ]
  },
  {
   "cell_type": "code",
   "execution_count": 7,
   "metadata": {},
   "outputs": [],
   "source": [
    "eval_dir = f\"{eval_dir}/models\"\n",
    "eval_log_files = glob.glob(f'{eval_dir}/*.log')\n",
    "eval_log_files.sort()\n",
    "\n",
    "for lf in eval_log_files:\n",
    "    with open(lf, \"r\") as f:\n",
    "        log = f.readlines()\n",
    "    psnr = ssim = lpips = 0\n",
    "    for l in log:\n",
    "        if \"PSNR\" in l:\n",
    "            psnr = float(l.split('PSNR :')[-1].strip())\n",
    "        if \"SSIM\" in l:\n",
    "            ssim = float(l.split('SSIM :')[-1].strip())\n",
    "        if \"LPIPS\" in l:\n",
    "            lpips = float(l.split('LPIPS:')[-1].strip())\n",
    "    print(f\"{lf}\\t{psnr}\\t{ssim:.5f}\\t{lpips:.5f}\")\n"
   ]
  }
 ],
 "metadata": {
  "kernelspec": {
   "display_name": "base",
   "language": "python",
   "name": "python3"
  },
  "language_info": {
   "codemirror_mode": {
    "name": "ipython",
    "version": 3
   },
   "file_extension": ".py",
   "mimetype": "text/x-python",
   "name": "python",
   "nbconvert_exporter": "python",
   "pygments_lexer": "ipython3",
   "version": "3.12.2"
  }
 },
 "nbformat": 4,
 "nbformat_minor": 2
}
