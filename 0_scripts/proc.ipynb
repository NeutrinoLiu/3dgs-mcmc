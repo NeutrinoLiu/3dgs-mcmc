{
 "cells": [
  {
   "cell_type": "code",
   "execution_count": 23,
   "metadata": {},
   "outputs": [
    {
     "name": "stdout",
     "output_type": "stream",
     "text": [
      "../0_log_0/100000_1e-2_5e3.log   [(29000, 34.13873281478882), (23000, 33.98160352706909), (26000, 33.96790523529053)]\n",
      "../0_log_0/100000_1e-2_5e4.log   [(29000, 34.20265302658081), (22000, 33.97951011657715), (26000, 33.94760904312134)]\n",
      "../0_log_0/100000_1e-2_5e5.log   [(3000, 21.919981956481934), (1000, 21.89674415588379), (5000, 15.57324914932251)]\n",
      "../0_log_0/100000_1e-3_5e3.log   [(29000, 34.21029577255249), (26000, 34.09383316040039), (19000, 34.07555093765259)]\n",
      "../0_log_0/100000_1e-3_5e4.log   [(29000, 34.59986219406128), (19000, 34.598624324798585), (24000, 34.53723516464233)]\n",
      "../0_log_0/100000_1e-3_5e5.log   [(19000, 32.75658187866211), (17000, 32.23772830963135), (22000, 32.2299711227417)]\n",
      "../0_log_0/100000_1e-4_5e3.log   [(29000, 33.830673980712895), (19000, 33.81339197158814), (26000, 33.77290391921997)]\n",
      "../0_log_0/100000_1e-4_5e4.log   [(28000, 34.609748172760014), (29000, 34.522880744934085), (26000, 34.42245025634766)]\n",
      "../0_log_0/100000_1e-4_5e5.log   [(23000, 33.33357038497925), (24000, 33.327379417419436), (26000, 33.284023189544676)]\n",
      "../0_log_0/100000_1e-5_5e3.log   [(29000, 32.582394218444826), (26000, 32.56754426956177), (24000, 32.45537996292114)]\n",
      "../0_log_0/100000_1e-5_5e4.log   [(29000, 34.21385231018066), (22000, 34.17936029434204), (23000, 34.12990646362305)]\n",
      "../0_log_0/100000_1e-5_5e5.log   [(29000, 29.555258560180665), (26000, 29.182749414443972), (25000, 29.174607419967653)]\n",
      "../0_log_0/100000_1e-6_5e3.log   [(19000, 33.188850498199464), (29000, 33.17557716369629), (26000, 33.105495834350585)]\n",
      "../0_log_0/100000_1e-6_5e4.log   [(26000, 34.29149265289307), (29000, 34.19707469940186), (27000, 34.12908363342285)]\n",
      "../0_log_0/100000_1e-6_5e5.log   [(21000, 27.87357816696167), (20000, 27.35220251083374), (23000, 27.319168090820312)]\n",
      "../0_log_0/150000_1e-2_5e4.log   [(29000, 34.12221450805664), (27000, 34.05131731033325), (21000, 34.018472290039064)]\n",
      "../0_log_0/150000_1e-3_5e4.log   [(26000, 34.29549875259399), (29000, 34.22653913497925), (23000, 34.217765426635744)]\n",
      "../0_log_0/150000_1e-4_5e4.log   [(2000, 21.800496006011965), (1000, 21.53129758834839), (3000, 18.491950416564944)]\n",
      "../0_log_0/150000_1e-5_5e4.log   [(26000, 31.643091583251955), (28000, 31.62797451019287), (27000, 31.61297473907471)]\n",
      "../0_log_0/150000_1e-6_5e4.log   [(26000, 34.146474552154544), (21000, 34.05389938354492), (29000, 34.026758670806885)]\n"
     ]
    }
   ],
   "source": [
    "import os\n",
    "import glob\n",
    "\n",
    "eval_dir = \"../0_log_1\"\n",
    "\n",
    "# Step 2: Use glob to find all .log files in the specified directory\n",
    "eval_log_files = glob.glob(f'{eval_dir}/*.log')\n",
    "# print(log_files)\n",
    "eval_log_files.sort()\n",
    "between = lambda x,a,b: x.split(a)[-1].split(b)[0]\n",
    "\n",
    "for lf in eval_log_files:\n",
    "    with open(lf, \"r\") as f:\n",
    "        log = f.readlines()\n",
    "    score = []\n",
    "    for l in log:\n",
    "        if \"Evaluating test: L1\" in l:\n",
    "            iter = int(between(l, '[ITER ', '] Evaluating'))\n",
    "            psnr = float(between(l, 'PSNR ', ' [15/07'))\n",
    "            score.append((iter, psnr))\n",
    "    if len(score):\n",
    "        score.sort(key= lambda x: x[1], reverse=True)\n",
    "        print(lf, ' ', score[0:3])"
   ]
  },
  {
   "cell_type": "code",
   "execution_count": 24,
   "metadata": {},
   "outputs": [
    {
     "name": "stdout",
     "output_type": "stream",
     "text": [
      "../0_log_0/models/test_a6_100000_1e-2_5e3.log\t34.1980171\t0.98455\t0.04760\n",
      "../0_log_0/models/test_a6_100000_1e-2_5e4.log\t34.1146278\t0.98491\t0.04647\n",
      "../0_log_0/models/test_a6_100000_1e-2_5e5.log\t13.4342546\t0.80258\t0.16924\n",
      "../0_log_0/models/test_a6_100000_1e-3_5e3.log\t34.1991119\t0.98370\t0.04923\n",
      "../0_log_0/models/test_a6_100000_1e-3_5e4.log\t34.6730118\t0.98467\t0.04643\n",
      "../0_log_0/models/test_a6_100000_1e-3_5e5.log\t31.8075752\t0.97503\t0.05352\n",
      "../0_log_0/models/test_a6_100000_1e-4_5e3.log\t33.7836494\t0.98212\t0.05343\n",
      "../0_log_0/models/test_a6_100000_1e-4_5e4.log\t34.5350952\t0.98397\t0.04792\n",
      "../0_log_0/models/test_a6_100000_1e-4_5e5.log\t33.1108856\t0.98146\t0.04967\n",
      "../0_log_0/models/test_a6_100000_1e-5_5e3.log\t32.5811539\t0.97988\t0.05783\n",
      "../0_log_0/models/test_a6_100000_1e-5_5e4.log\t34.1225624\t0.98303\t0.05100\n",
      "../0_log_0/models/test_a6_100000_1e-5_5e5.log\t29.2864742\t0.96726\t0.05889\n",
      "../0_log_0/models/test_a6_100000_1e-6_5e3.log\t33.1435318\t0.98064\t0.05861\n",
      "../0_log_0/models/test_a6_100000_1e-6_5e4.log\t34.2660141\t0.98298\t0.05241\n",
      "../0_log_0/models/test_a6_100000_1e-6_5e5.log\t26.8657894\t0.96440\t0.06651\n",
      "../0_log_0/models/test_a6_150000_1e-2_5e4.log\t34.1621819\t0.98569\t0.04347\n",
      "../0_log_0/models/test_a6_150000_1e-3_5e4.log\t34.2044029\t0.98574\t0.04155\n",
      "../0_log_0/models/test_a6_150000_1e-4_5e4.log\t10.7035847\t0.77521\t0.17838\n",
      "../0_log_0/models/test_a6_150000_1e-5_5e4.log\t31.4621181\t0.97317\t0.05516\n",
      "../0_log_0/models/test_a6_150000_1e-6_5e4.log\t34.0344925\t0.97843\t0.05337\n"
     ]
    }
   ],
   "source": [
    "eval_dir = f\"{eval_dir}/models\"\n",
    "eval_log_files = glob.glob(f'{eval_dir}/*.log')\n",
    "eval_log_files.sort()\n",
    "\n",
    "for lf in eval_log_files:\n",
    "    with open(lf, \"r\") as f:\n",
    "        log = f.readlines()\n",
    "    psnr = ssim = lpips = 0\n",
    "    for l in log:\n",
    "        if \"PSNR\" in l:\n",
    "            psnr = float(l.split('PSNR :')[-1].strip())\n",
    "        if \"SSIM\" in l:\n",
    "            ssim = float(l.split('SSIM :')[-1].strip())\n",
    "        if \"LPIPS\" in l:\n",
    "            lpips = float(l.split('LPIPS:')[-1].strip())\n",
    "    print(f\"{lf}\\t{psnr}\\t{ssim:.5f}\\t{lpips:.5f}\")\n"
   ]
  }
 ],
 "metadata": {
  "kernelspec": {
   "display_name": "base",
   "language": "python",
   "name": "python3"
  },
  "language_info": {
   "codemirror_mode": {
    "name": "ipython",
    "version": 3
   },
   "file_extension": ".py",
   "mimetype": "text/x-python",
   "name": "python",
   "nbconvert_exporter": "python",
   "pygments_lexer": "ipython3",
   "version": "3.12.2"
  }
 },
 "nbformat": 4,
 "nbformat_minor": 2
}
