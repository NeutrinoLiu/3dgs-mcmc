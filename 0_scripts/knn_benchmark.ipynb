{
 "cells": [
  {
   "cell_type": "code",
   "execution_count": 1,
   "metadata": {},
   "outputs": [
    {
     "name": "stdout",
     "output_type": "stream",
     "text": [
      "Jupyter environment detected. Enabling Open3D WebVisualizer.\n",
      "[Open3D INFO] WebRTC GUI backend enabled.\n",
      "[Open3D INFO] WebRTCWindowSystem: HTTP handshake server disabled.\n"
     ]
    },
    {
     "ename": "Exception",
     "evalue": "Version mismatch: Open3D needs PyTorch version 1.13.*, but version 1.12.1 is installed!",
     "output_type": "error",
     "traceback": [
      "\u001b[0;31m---------------------------------------------------------------------------\u001b[0m",
      "\u001b[0;31mException\u001b[0m                                 Traceback (most recent call last)",
      "\u001b[0;32m/tmp/ipykernel_635572/2105273755.py\u001b[0m in \u001b[0;36m<module>\u001b[0;34m\u001b[0m\n\u001b[1;32m      2\u001b[0m \u001b[0;32mimport\u001b[0m \u001b[0mnumpy\u001b[0m \u001b[0;32mas\u001b[0m \u001b[0mnp\u001b[0m\u001b[0;34m\u001b[0m\u001b[0;34m\u001b[0m\u001b[0m\n\u001b[1;32m      3\u001b[0m \u001b[0;32mimport\u001b[0m \u001b[0mtime\u001b[0m\u001b[0;34m\u001b[0m\u001b[0;34m\u001b[0m\u001b[0m\n\u001b[0;32m----> 4\u001b[0;31m \u001b[0;32mfrom\u001b[0m \u001b[0mopen3d\u001b[0m\u001b[0;34m.\u001b[0m\u001b[0mml\u001b[0m\u001b[0;34m.\u001b[0m\u001b[0mtorch\u001b[0m\u001b[0;34m.\u001b[0m\u001b[0mops\u001b[0m \u001b[0;32mimport\u001b[0m \u001b[0mknn_search\u001b[0m\u001b[0;34m\u001b[0m\u001b[0;34m\u001b[0m\u001b[0m\n\u001b[0m\u001b[1;32m      5\u001b[0m \u001b[0;34m\u001b[0m\u001b[0m\n\u001b[1;32m      6\u001b[0m \u001b[0;31m# Set the random seed for reproducibility\u001b[0m\u001b[0;34m\u001b[0m\u001b[0;34m\u001b[0m\u001b[0;34m\u001b[0m\u001b[0m\n",
      "\u001b[0;32m~/miniconda3/envs/3dgs/lib/python3.7/site-packages/open3d/ml/torch/__init__.py\u001b[0m in \u001b[0;36m<module>\u001b[0;34m\u001b[0m\n\u001b[1;32m     21\u001b[0m     raise Exception('Version mismatch: Open3D needs PyTorch version {}, but '\n\u001b[1;32m     22\u001b[0m                     'version {} is installed!'.format(match_torch_ver,\n\u001b[0;32m---> 23\u001b[0;31m                                                       _torch.__version__))\n\u001b[0m\u001b[1;32m     24\u001b[0m \u001b[0;34m\u001b[0m\u001b[0m\n\u001b[1;32m     25\u001b[0m \u001b[0;31m# Precompiled wheels at\u001b[0m\u001b[0;34m\u001b[0m\u001b[0;34m\u001b[0m\u001b[0;34m\u001b[0m\u001b[0m\n",
      "\u001b[0;31mException\u001b[0m: Version mismatch: Open3D needs PyTorch version 1.13.*, but version 1.12.1 is installed!"
     ]
    }
   ],
   "source": [
    "import torch\n",
    "import numpy as np\n",
    "import time\n",
    "from open3d.ml.torch.ops import knn_search\n",
    "\n",
    "# Set the random seed for reproducibility\n",
    "torch.manual_seed(42)\n",
    "np.random.seed(42)\n",
    "\n",
    "# Generate a random point cloud with 1 million points in 3D space\n",
    "num_points = 1_000_000\n",
    "dim = 3\n",
    "points = torch.rand(num_points, dim).float().cuda()\n",
    "\n",
    "# Set the number of nearest neighbors to find\n",
    "k = 20\n",
    "\n",
    "# Use the same points as queries\n",
    "queries = points\n",
    "\n",
    "# Warm-up run (to ensure any initialization is done before timing)\n",
    "_ = knn_search(points, queries, k)\n",
    "\n",
    "# Perform the benchmark\n",
    "num_runs = 3  # Reduced from 10 due to increased computation time\n",
    "total_time = 0\n",
    "\n",
    "for i in range(num_runs):\n",
    "    start_time = time.time()\n",
    "    \n",
    "    # Perform kNN search\n",
    "    indices, distances = knn_search(points, queries, k)\n",
    "    \n",
    "    # Ensure all GPU operations are completed\n",
    "    torch.cuda.synchronize()\n",
    "    \n",
    "    end_time = time.time()\n",
    "    run_time = end_time - start_time\n",
    "    total_time += run_time\n",
    "    print(f\"Run {i+1} time: {run_time:.4f} seconds\")\n",
    "\n",
    "# Calculate average time\n",
    "avg_time = total_time / num_runs\n",
    "\n",
    "print(f\"\\nAverage time for kNN search on {num_points} points with k={k}: {avg_time:.4f} seconds\")\n",
    "print(f\"Number of query points: {num_points}\")\n",
    "print(f\"Shape of indices: {indices.shape}\")\n",
    "print(f\"Shape of distances: {distances.shape}\")\n",
    "\n",
    "# Verify that the first nearest neighbor is always the point itself\n",
    "first_nn = indices[:, 0]\n",
    "assert torch.all(first_nn == torch.arange(num_points).to(indices.device)), \"First nearest neighbor should be the point itself\"\n",
    "print(\"Verification passed: First nearest neighbor is always the point itself\")"
   ]
  }
 ],
 "metadata": {
  "kernelspec": {
   "display_name": "3dgs",
   "language": "python",
   "name": "python3"
  },
  "language_info": {
   "codemirror_mode": {
    "name": "ipython",
    "version": 3
   },
   "file_extension": ".py",
   "mimetype": "text/x-python",
   "name": "python",
   "nbconvert_exporter": "python",
   "pygments_lexer": "ipython3",
   "version": "3.7.12"
  }
 },
 "nbformat": 4,
 "nbformat_minor": 2
}
